{
 "cells": [
  {
   "cell_type": "code",
   "execution_count": 13,
   "id": "b5312303",
   "metadata": {},
   "outputs": [
    {
     "name": "stdout",
     "output_type": "stream",
     "text": [
      "Choose STONE/PAPER/SCISSORS or q to quit stone\n",
      "Computer picked scissors\n",
      "You won\n",
      "Choose STONE/PAPER/SCISSORS or q to quit paper\n",
      "Computer picked paper\n",
      "Draw\n",
      "Choose STONE/PAPER/SCISSORS or q to quit q\n",
      "You won 1 times\n",
      "Computer won 0 times\n",
      "No of ties= 1\n",
      "Bye Close the tab\n"
     ]
    }
   ],
   "source": [
    "import random\n",
    "\n",
    "player_wins=0\n",
    "pc_wins=0\n",
    "no_of_ties=0\n",
    "choices=[\"stone\",\"paper\",\"scissors\"]\n",
    "\n",
    "while True:\n",
    "    player_input=input(\"Choose STONE/PAPER/SCISSORS or q to quit \").lower()\n",
    "    if player_input==\"q\":\n",
    "        break\n",
    "    \n",
    "    if player_input not in choices:\n",
    "        continue\n",
    "        \n",
    "    random_number=random.randint(0,2)\n",
    "    #stone = 0\n",
    "    #paper = 1\n",
    "    #scissors = 2\n",
    "    pc_pick=choices[random_number]\n",
    "\n",
    "    print(\"Computer picked\",pc_pick)\n",
    "  \n",
    "\n",
    "    if player_input == \"stone\" and pc_pick == \"scissors\":\n",
    "        print(\"You won\")\n",
    "        player_wins+=1\n",
    "        \n",
    "        \n",
    "    elif player_input == \"paper\" and pc_pick == \"stone\":\n",
    "        print(\"You won\")\n",
    "        player_wins+=1\n",
    "        \n",
    "    elif player_input == \"scissors\" and pc_pick == \"paper\":\n",
    "        print(\"You won\")\n",
    "        player_wins+=1\n",
    "    \n",
    "    elif player_input == \"scissors\" and pc_pick == \"scissors\":\n",
    "        print(\"Draw\")\n",
    "        no_of_ties+=1\n",
    "        \n",
    "    elif player_input == \"stone\" and pc_pick == \"stone\":\n",
    "        print(\"Draw\")\n",
    "        no_of_ties+=1\n",
    "     \n",
    "    elif player_input == \"paper\" and pc_pick == \"paper\":\n",
    "        print(\"Draw\")\n",
    "        no_of_ties+=1\n",
    "    else:\n",
    "        print(\"You lost\")\n",
    "        pc_wins+=1\n",
    "        \n",
    "print(\"You won\",player_wins,\"times\")\n",
    "print(\"Computer won\",pc_wins,\"times\")\n",
    "print(\"No of ties=\",no_of_ties)\n",
    "\n",
    "print(\"Bye Close the tab\")\n"
   ]
  },
  {
   "cell_type": "code",
   "execution_count": null,
   "id": "cead147d",
   "metadata": {},
   "outputs": [],
   "source": []
  }
 ],
 "metadata": {
  "kernelspec": {
   "display_name": "Python 3 (ipykernel)",
   "language": "python",
   "name": "python3"
  },
  "language_info": {
   "codemirror_mode": {
    "name": "ipython",
    "version": 3
   },
   "file_extension": ".py",
   "mimetype": "text/x-python",
   "name": "python",
   "nbconvert_exporter": "python",
   "pygments_lexer": "ipython3",
   "version": "3.9.12"
  }
 },
 "nbformat": 4,
 "nbformat_minor": 5
}
