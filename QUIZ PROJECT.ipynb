{
 "cells": [
  {
   "cell_type": "code",
   "execution_count": 2,
   "id": "1fb4cf6a",
   "metadata": {},
   "outputs": [
    {
     "name": "stdout",
     "output_type": "stream",
     "text": [
      "enter your name:sahidh\n",
      "welcome sahidh to cricket quiz\n",
      "Lets test your cricket knowledge :) \n",
      "Lets play\n",
      "How many overs are played in Twenty20 cricket match? 20\n",
      "Right Ans\n",
      "Wankhede Cricket stadium is situated in? mumbai\n",
      "Right Ans\n",
      "Sachin Tendulkar scored world’s first 200 runs in ODI of __ balls? 147\n",
      "Right Ans\n",
      "What is the middle name of Sachin Tendulkar? ramesh\n",
      "Right Ans\n",
      "In cricket, what term is used to describe the situation when a batsman is out on the first ball of the match? duck\n",
      "Wrong Ans\n",
      "You got 80.0 %\n"
     ]
    }
   ],
   "source": [
    "# CRICKET QUIZ QUIZ:\n",
    "name=input(\"enter your name:\")\n",
    "print(\"welcome\",name,\"to cricket quiz\")\n",
    "print(\"Lets test your cricket knowledge :) \")\n",
    "\n",
    "print(\"Lets play\")\n",
    "score=0\n",
    "\n",
    "\n",
    "answer=int(input(\"How many overs are played in Twenty20 cricket match? \"))\n",
    "if answer == 20:\n",
    "  print(\"Right Ans\")\n",
    "  score+=1\n",
    "else:\n",
    "  print(\"Wrong Ans\") \n",
    "\n",
    "answer=input(\"Wankhede Cricket stadium is situated in? \")\n",
    "if answer.lower() == \"mumbai\":\n",
    "  score+=1\n",
    "  print(\"Right Ans\")\n",
    "else:\n",
    "  print(\"Wrong Ans\") \n",
    "\n",
    "\n",
    "\n",
    "answer=int(input(\"Sachin Tendulkar scored world’s first 200 runs in ODI of __ balls? \"))\n",
    "if answer == 147:\n",
    "  print(\"Right Ans\")\n",
    "  score+=1\n",
    "else:\n",
    "  print(\"Wrong Ans\")\n",
    "\n",
    "\n",
    "answer=input(\"What is the middle name of Sachin Tendulkar? \")\n",
    "if answer.lower() == \"ramesh\":\n",
    "  print(\"Right Ans\")\n",
    "  score+=1\n",
    "else:\n",
    "  print(\"Wrong Ans\")\n",
    "\n",
    "\n",
    "answer=input(\"In cricket, what term is used to describe the situation when a batsman is out on the first ball of the match? \")\n",
    "if answer.lower() == \"golden duck\":\n",
    "  print(\"Right Ans\")\n",
    "  score+=1\n",
    "else:\n",
    "  print(\"Wrong Ans\")\n",
    "\n",
    "\n",
    "print(\"You got\" +\" \"+ str((score /5) * 100) +\" \"+ \"%\")"
   ]
  },
  {
   "cell_type": "code",
   "execution_count": null,
   "id": "33847726",
   "metadata": {},
   "outputs": [],
   "source": []
  }
 ],
 "metadata": {
  "kernelspec": {
   "display_name": "Python 3 (ipykernel)",
   "language": "python",
   "name": "python3"
  },
  "language_info": {
   "codemirror_mode": {
    "name": "ipython",
    "version": 3
   },
   "file_extension": ".py",
   "mimetype": "text/x-python",
   "name": "python",
   "nbconvert_exporter": "python",
   "pygments_lexer": "ipython3",
   "version": "3.9.12"
  }
 },
 "nbformat": 4,
 "nbformat_minor": 5
}
